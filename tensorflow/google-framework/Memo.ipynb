{
 "cells": [
  {
   "cell_type": "markdown",
   "metadata": {},
   "source": [
    "# 学习笔记\n",
    "严格来说，这个是在学习《实战Google深度学习框架》时记录并实践一些局部的知识点或者一些小技巧，所以可能不同部分之间没有明显联系，都是独立从章节中抽取出来。相对完整的章节内容，都按照章节或者模块内容区分，放在同一个文件中。"
   ]
  },
  {
   "cell_type": "markdown",
   "metadata": {},
   "source": [
    "## 自定义损失函数\n",
    "在机器学期过程中，我们常常会使用损失函数（cost function)来优化模型，以满足实际需求。除了经典的损失函数外，有时候我们需要根据实际情况定义一些损失函数。\n",
    "\n",
    "比如说，在预测商品价格时，预测多了，商家损失的是生产商品的生产成本；预测少了，损失的是商品的利润。考虑到商品的成本和利润不会严格相等，假如一个商品的成本是1元，但利润是10元，当我们使用如**均方误差**这样的损失函数时，有可能无法实现利润最大化。所以，此时我们需要定义一个损失函数，该损失函数需要与利润直接联系起来。"
   ]
  },
  {
   "cell_type": "code",
   "execution_count": null,
   "metadata": {
    "collapsed": true
   },
   "outputs": [],
   "source": [
    "# 定义损失函数如下：\n",
    "\"\"\"\n",
    "loss = tf.reduce_sum(tf.where(tf.greater(v1, v2),\n",
    "                               (v1 - v2) * a, (v2 - v1) * b))\n",
    "\"\"\"\n",
    "# 当v1大于v2时，执行（v1 - v2) * a；当v1不大于v2时，执行（v2 - v1) * b\n"
   ]
  },
  {
   "cell_type": "code",
   "execution_count": null,
   "metadata": {
    "collapsed": true
   },
   "outputs": [],
   "source": [
    "# tf.where和tf.greater的实例\n",
    "import tensorflow as tf\n",
    "v1 = tf.constant([1.0, 2.0, 3.0, 4.0])\n",
    "v2 = tf.constant([4.0, 3.0, 2.0, 1.0])\n",
    "\n",
    "sess = tf.InteractiveSession()\n",
    "print tf.greater(v1, v2).eval()\n",
    "# 输出[False False True True]\n",
    "\n",
    "print tf.where(tf.greater(v1, v2), v1, v2).eval()\n",
    "# 输出[4. 3. 3. 4.]\n",
    "\n",
    "sess.close()"
   ]
  },
  {
   "cell_type": "markdown",
   "metadata": {},
   "source": [
    "下面用一个简单的神经网络实现上面的这个自定义函数\n",
    "* 两层的神经网络\n",
    "* 两个输入节点，一个输出节点\n",
    "* 数据集随机生成"
   ]
  },
  {
   "cell_type": "code",
   "execution_count": null,
   "metadata": {
    "collapsed": true
   },
   "outputs": [],
   "source": [
    "import tensorflow as tf\n",
    "from numpy.random import RandomState\n",
    "\n",
    "batch_size = 8\n",
    "\n",
    "x = tf.placeholder(tf.float32, shape=(None, 2), name='x-input')\n",
    "y_ = tf.placeholder(tf.float32, shape=(None, 1), name='y-input')\n",
    "\n",
    "w1 = tf.Variable(tf.random_normal([2, 1], stddev=1, seed=1))\n",
    "y = tf.matmul(x, w1)\n",
    "\n",
    "# 预测多了和预测少了的成本\n",
    "loss_less = 10\n",
    "loss_more = 1\n",
    "\n",
    "loss = tf.reduce_sum(tf.where(tf.greater(y, y_),\n",
    "                               (y - y_) * loss_more, \n",
    "                               (y_ - y) * loss_less))\n",
    "train_step = tf.train.AdamOptimizer(0.001).minimize(loss)\n",
    "\n",
    "# 随机生成数据集，噪声为-0.05 ～ 0.05的随机数\n",
    "rdm = RandomState(1)\n",
    "dataset_size = 128\n",
    "X = rdm.rand(dataset_size, 2)\n",
    "Y = [[x1 + x2 + rdm.rand()/10.0 - 0.05] for (x1, x2) in X]\n",
    "\n",
    "# 训练神经网络\n",
    "with tf.Session() as sess:\n",
    "    init_op = tf.global_variables_initializer()\n",
    "    sess.run(init_op)\n",
    "    STEPS = 5000\n",
    "    for i in range(STEPS):\n",
    "        start = (i * batch_size) % dataset_size\n",
    "        end = min(start + batch_size, dataset_size)\n",
    "        sess.run(train_step, feed_dict = {x: X[start: end],\n",
    "                                          y_: Y[start: end]})\n",
    "        print sess.run(w1)"
   ]
  },
  {
   "cell_type": "markdown",
   "metadata": {},
   "source": [
    "# 滑动平均模型（简单样例）\n",
    "这是一种可以使得模型在测试数据上更健壮（robust）的方法，在采用随机梯度下降算法训练神经网络时，可以在一定程度上提升最终模型在测试数据上的表现。\n",
    "\n",
    "使用的函数：\n",
    "tf.train.ExponentialMovingAverage\n",
    "\n",
    "每次使用的衰减率：\n",
    "min{decay, (1+num_updates)/(10+num_updates)\n",
    "\n",
    "每次更新变量的值：\n",
    "shadow_variable = decay*shadow_variable + (1-decay)*variable"
   ]
  },
  {
   "cell_type": "code",
   "execution_count": null,
   "metadata": {
    "collapsed": true
   },
   "outputs": [],
   "source": [
    "import tensorflow as tf\n",
    "\n",
    "v1 = tf.Variable(0, dtype=tf.float32)\n",
    "step = tf.Variable(0, trainable=False)\n",
    "\n",
    "# 定义一个滑动平均的类,衰减率为0.99, 控制衰减率的变量step\n",
    "ema = tf.train.ExponentialMovingAverage(0.99, step)\n",
    "\n",
    "# 定义一个更新滑动平均的操作\n",
    "maintain_averages_op = ema.apply([v1])\n",
    "\n",
    "with tf.Session() as sess:\n",
    "    init_op = tf.global_variables_initializer()\n",
    "    sess.run(init_op)\n",
    "    print sess.run([v1, ema.average(v1)])\n",
    "    \n",
    "    # 更新v1的值为5,更新结果为4.5\n",
    "    sess.run(tf.assign(v1, 5))\n",
    "    sess.run(maintain_averages_op)\n",
    "    print sess.run([v1, ema.average(v1)])\n",
    "    \n",
    "    # 更新step的值为10000\n",
    "    sess.run(tf.assign(step, 10000))\n",
    "    # 更新v1的值为10,更新结果为4.555\n",
    "    sess.run(tf.assign(v1, 10))\n",
    "    sess.run(maintain_averages_op)\n",
    "    print sess.run([v1, ema.average(v1)])\n",
    "    \n",
    "    # 再次更新，结果为4.60945\n",
    "    sess.run(maintain_averages_op)\n",
    "    print sess.run([v1, ema.average(v1)])"
   ]
  },
  {
   "cell_type": "markdown",
   "metadata": {
    "collapsed": true
   },
   "source": [
    "# 模型持久化\n",
    "Tensorflow提供了tf.train.Saver类用来保存和还原一个神经网络模型"
   ]
  },
  {
   "cell_type": "code",
   "execution_count": null,
   "metadata": {
    "collapsed": true
   },
   "outputs": [],
   "source": [
    "# 保存模型\n",
    "import tensorflow as tf\n",
    "\n",
    "v1 = tf.Variable(tf.constant(1.0, shape=[1]), name='v1')\n",
    "v2 = tf.Variable(tf.constant(2.0, shape=[1]), name='v2')\n",
    "result = v1 + v2\n",
    "\n",
    "init_op = tf.global_variables_initializer()\n",
    "saver = tf.train.Saver()\n",
    "\n",
    "with tf.Session() as sess:\n",
    "    sess.run(init_op)\n",
    "    saver.save(sess, \"./saver/model_eg.ckpt\")"
   ]
  },
  {
   "cell_type": "code",
   "execution_count": null,
   "metadata": {},
   "outputs": [],
   "source": [
    "# 加载计算图，不用重复图中的计算流程\n",
    "import tensorflow as tf\n",
    "\n",
    "saver = tf.train.import_meta_graph(\"./saver/model_eg.ckpt.meta\")\n",
    "with tf.Session() as sess:\n",
    "    saver.restore(sess, \"./saver/model_eg.ckpt\")\n",
    "    print sess.run(tf.get_default_graph().get_tensor_by_name(\"add:0\"))\n"
   ]
  },
  {
   "cell_type": "code",
   "execution_count": null,
   "metadata": {},
   "outputs": [],
   "source": [
    "# 加载时变量重命名\n",
    "v1 = tf.Variable(tf.constant(1.0, shape=[1]), name='other-v1')\n",
    "v2 = tf.Variable(tf.constant(2.0, shape=[1]), name='other-v2')\n",
    "\n",
    "saver = tf.train.Saver({\"v1\":v1, \"v2\":v2})\n",
    "print v1, v2"
   ]
  },
  {
   "cell_type": "markdown",
   "metadata": {},
   "source": [
    "以上功能的主要目的之一是，为了方便使用变量的滑动平均值。以下是实现的代码："
   ]
  },
  {
   "cell_type": "code",
   "execution_count": null,
   "metadata": {},
   "outputs": [],
   "source": [
    "import tensorflow as tf\n",
    "\n",
    "v = tf.Variable(0, dtype=tf.float32, name=\"v\")\n",
    "for variables in tf.global_variables():\n",
    "    print variables.name\n",
    "    \n",
    "ema = tf.train.ExponentialMovingAverage(0.99)\n",
    "maintain_averages_op = ema.apply(tf.global_variables())\n",
    "for variables in tf.global_variables():\n",
    "    print variables.name\n",
    "    \n",
    "saver = tf.train.Saver()\n",
    "with tf.Session() as sess:\n",
    "    init_op = tf.global_variables_initializer()\n",
    "    sess.run(init_op)\n",
    "    \n",
    "    sess.run(tf.assign(v, 10))\n",
    "    sess.run(maintain_averages_op)\n",
    "    \n",
    "    saver.save(sess, \"./saver/model.ckpt\")\n",
    "    print sess.run([v, ema.average(v)])"
   ]
  },
  {
   "cell_type": "code",
   "execution_count": null,
   "metadata": {},
   "outputs": [],
   "source": [
    "# variables_to_restore函数\n",
    "v = tf.Variable(0, dtype=tf.float32, name=\"v\")\n",
    "ema = tf.train.ExponentialMovingAverage(0.99)\n",
    "print ema.variables_to_restore()\n",
    "\n",
    "saver = tf.train.Saver({\"v/ExpinentialMovingAverage\": v})\n",
    "with tf.Session() as sess:\n",
    "    saver.restore(sess, \"./saver/model.ckpt\")\n",
    "    print sess.run(v)"
   ]
  },
  {
   "cell_type": "markdown",
   "metadata": {
    "collapsed": true
   },
   "source": [
    "# TFRecord格式\n",
    "TFRecord文件中的数据都是通过tf.train.Example Protocol Buffer的格式存储的。以下是tf.train.Example的定义："
   ]
  },
  {
   "cell_type": "code",
   "execution_count": 2,
   "metadata": {},
   "outputs": [
    {
     "data": {
      "text/plain": [
       "'\\nmessage Example {\\n    Features features = 1;\\n};\\n\\nmessage Features {\\n    map<string, Feature> feature = 1;\\n};\\n\\nmessage Feature {\\n    one of kind {\\n        BytesList bytes_list = 1;\\n        FloatList float_list = 2;\\n        Int64List int64_list = 3;\\n    }\\n};\\n'"
      ]
     },
     "execution_count": 2,
     "metadata": {},
     "output_type": "execute_result"
    }
   ],
   "source": [
    "\"\"\"\n",
    "message Example {\n",
    "    Features features = 1;\n",
    "};\n",
    "\n",
    "message Features {\n",
    "    map<string, Feature> feature = 1;\n",
    "};\n",
    "\n",
    "message Feature {\n",
    "    one of kind {\n",
    "        BytesList bytes_list = 1;\n",
    "        FloatList float_list = 2;\n",
    "        Int64List int64_list = 3;\n",
    "    }\n",
    "};\n",
    "\"\"\""
   ]
  },
  {
   "cell_type": "markdown",
   "metadata": {},
   "source": [
    "# 图像数据处理函数"
   ]
  },
  {
   "cell_type": "code",
   "execution_count": null,
   "metadata": {
    "collapsed": true
   },
   "outputs": [],
   "source": [
    "\"\"\"\n",
    "# 编码处理\n",
    "tf.image.decode_jpeg()\n",
    "tf.image.encode_jpeg()\n",
    "# 大小调整\n",
    "tf.image.resize_images()\n",
    "# 图像翻转\n",
    "tf.image.flip_up_down()\n",
    "tf.image.flip_left_right()\n",
    "tf.image.transpose_image()\n",
    "# 图像色彩调整\n",
    "tf.image.adjust_brightness()\n",
    "tf.image.adjust_contrast()\n",
    "tf.image.adjust_hue()\n",
    "tf.image.adjust_saturation()\n",
    "# 处理标注框\n",
    "tf.image.draw_bounding_boxes()\n",
    "\n",
    "\"\"\""
   ]
  }
 ],
 "metadata": {
  "kernelspec": {
   "display_name": "Python 2",
   "language": "python",
   "name": "python2"
  },
  "language_info": {
   "codemirror_mode": {
    "name": "ipython",
    "version": 2
   },
   "file_extension": ".py",
   "mimetype": "text/x-python",
   "name": "python",
   "nbconvert_exporter": "python",
   "pygments_lexer": "ipython2",
   "version": "2.7.12"
  }
 },
 "nbformat": 4,
 "nbformat_minor": 2
}
